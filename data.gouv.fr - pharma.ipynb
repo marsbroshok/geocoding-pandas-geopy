{
 "cells": [
  {
   "cell_type": "markdown",
   "metadata": {},
   "source": [
    "# Toy example of address parsing with Pandas and Geopy\n",
    "## Demo data was downloaded from [data.gouv.fr - Liste des pharmacies parisiennes](https://www.data.gouv.fr/fr/datasets/carte-des-pharmacies-de-paris-idf/)\n",
    "\n",
    "First of all let's import *pandas* and *geopy*. We will use Google service for geocoding, but you can check [geopy documentation](http://geopy.readthedocs.org/en/latest/#module-geopy.geocoders) for information about other providers.\n",
    "\n",
    "After importing the modules, let's load csv file with address data:"
   ]
  },
  {
   "cell_type": "code",
   "execution_count": 123,
   "metadata": {
    "collapsed": false
   },
   "outputs": [],
   "source": [
    "import pandas as pd\n",
    "from geopy.geocoders import GoogleV3\n",
    "pharmaFile = './carte-des-pharmacies-de-paris.csv'\n",
    "pharma_df = pd.read_csv(pharmaFile, sep=';')"
   ]
  },
  {
   "cell_type": "markdown",
   "metadata": {},
   "source": [
    "The dataset already contains map coordinates `['lat', 'lng']`. So just for the purpose of that toy example let's drop out columns with coordinates. Also let's make a basic data cleaning by dropping raws with empty values:"
   ]
  },
  {
   "cell_type": "code",
   "execution_count": 124,
   "metadata": {
    "collapsed": true
   },
   "outputs": [],
   "source": [
    "# Drop all columns we are not interested in\n",
    "pharma_df = pharma_df.drop(['nofinesset', 'nofinessej', 'rslongue', 'compvoie', 'lieuditbp', 'wgs84', 'lat', 'lng'], axis=1)\n",
    "\n",
    "# Drop rows with missing data\n",
    "pharma_df = pharma_df.dropna()\n",
    "\n",
    "# Reset index after all clean-up operations\n",
    "pharma_df.reset_index(inplace=True, drop=True)\n",
    "\n",
    "# Convert building number to int (by default it was float)\n",
    "pharma_df['numvoie'] = pharma_df['numvoie'].astype(int)"
   ]
  },
  {
   "cell_type": "markdown",
   "metadata": {},
   "source": [
    "Here is a sample of our data set:"
   ]
  },
  {
   "cell_type": "code",
   "execution_count": 136,
   "metadata": {
    "collapsed": false
   },
   "outputs": [
    {
     "data": {
      "text/html": [
       "<div>\n",
       "<table border=\"1\" class=\"dataframe\">\n",
       "  <thead>\n",
       "    <tr style=\"text-align: right;\">\n",
       "      <th></th>\n",
       "      <th>rs</th>\n",
       "      <th>complrs</th>\n",
       "      <th>numvoie</th>\n",
       "      <th>typvoie</th>\n",
       "      <th>voie</th>\n",
       "      <th>departement</th>\n",
       "      <th>libdepartement</th>\n",
       "      <th>cp</th>\n",
       "      <th>commune</th>\n",
       "      <th>telephone</th>\n",
       "      <th>telecopie</th>\n",
       "      <th>dateouv</th>\n",
       "      <th>dateautor</th>\n",
       "      <th>datemaj</th>\n",
       "      <th>fulladdress</th>\n",
       "      <th>lat</th>\n",
       "      <th>lng</th>\n",
       "    </tr>\n",
       "  </thead>\n",
       "  <tbody>\n",
       "    <tr>\n",
       "      <th>0</th>\n",
       "      <td>SELARL PHARMACIE MATHIAU LAM</td>\n",
       "      <td>PHARMACIE MATHIAU LAM</td>\n",
       "      <td>3</td>\n",
       "      <td>RUE</td>\n",
       "      <td>JEANNE D'ARC</td>\n",
       "      <td>75</td>\n",
       "      <td>PARIS</td>\n",
       "      <td>75013</td>\n",
       "      <td>PARIS</td>\n",
       "      <td>145834022</td>\n",
       "      <td>145864415</td>\n",
       "      <td>2011-06-30</td>\n",
       "      <td>1994-06-29</td>\n",
       "      <td>2011-07-21</td>\n",
       "      <td>3 RUE JEANNE D'ARC, 75013, PARIS</td>\n",
       "      <td>48.828895</td>\n",
       "      <td>2.369385</td>\n",
       "    </tr>\n",
       "    <tr>\n",
       "      <th>1</th>\n",
       "      <td>SELARL PHARMACIE DIDOT ALESIA</td>\n",
       "      <td>PHARMACIE DIDOT ALESIA</td>\n",
       "      <td>169</td>\n",
       "      <td>RUE</td>\n",
       "      <td>D ALESIA</td>\n",
       "      <td>75</td>\n",
       "      <td>PARIS</td>\n",
       "      <td>75014</td>\n",
       "      <td>PARIS</td>\n",
       "      <td>145423493</td>\n",
       "      <td>145426363</td>\n",
       "      <td>2011-04-11</td>\n",
       "      <td>1942-12-30</td>\n",
       "      <td>2011-07-22</td>\n",
       "      <td>169 RUE D ALESIA, 75014, PARIS</td>\n",
       "      <td>48.830662</td>\n",
       "      <td>2.318188</td>\n",
       "    </tr>\n",
       "    <tr>\n",
       "      <th>2</th>\n",
       "      <td>SELARL PHARMACIE EDGAR QUINET</td>\n",
       "      <td>PHARMACIE EDGAR QUINET</td>\n",
       "      <td>43</td>\n",
       "      <td>RUE</td>\n",
       "      <td>DELAMBRE</td>\n",
       "      <td>75</td>\n",
       "      <td>PARIS</td>\n",
       "      <td>75014</td>\n",
       "      <td>PARIS</td>\n",
       "      <td>143207012</td>\n",
       "      <td>143202920</td>\n",
       "      <td>2010-07-01</td>\n",
       "      <td>1942-11-10</td>\n",
       "      <td>2011-07-21</td>\n",
       "      <td>43 RUE DELAMBRE, 75014, PARIS</td>\n",
       "      <td>48.841301</td>\n",
       "      <td>2.325438</td>\n",
       "    </tr>\n",
       "    <tr>\n",
       "      <th>3</th>\n",
       "      <td>M OMAR AADRI</td>\n",
       "      <td>PHARMACIE AADRI</td>\n",
       "      <td>11</td>\n",
       "      <td>RUE</td>\n",
       "      <td>MARGUERIN</td>\n",
       "      <td>75</td>\n",
       "      <td>PARIS</td>\n",
       "      <td>75014</td>\n",
       "      <td>PARIS</td>\n",
       "      <td>145407284</td>\n",
       "      <td>145394212</td>\n",
       "      <td>2012-07-30</td>\n",
       "      <td>1943-05-05</td>\n",
       "      <td>2012-09-12</td>\n",
       "      <td>11 RUE MARGUERIN, 75014, PARIS</td>\n",
       "      <td>48.826962</td>\n",
       "      <td>2.328586</td>\n",
       "    </tr>\n",
       "    <tr>\n",
       "      <th>4</th>\n",
       "      <td>EURL PLANCHE</td>\n",
       "      <td>PHARMACIE PL DENFERT ROCHEREAU</td>\n",
       "      <td>97</td>\n",
       "      <td>AVENUE</td>\n",
       "      <td>DENFERT ROCHEREAU</td>\n",
       "      <td>75</td>\n",
       "      <td>PARIS</td>\n",
       "      <td>75014</td>\n",
       "      <td>PARIS</td>\n",
       "      <td>143542971</td>\n",
       "      <td>144070600</td>\n",
       "      <td>2011-04-01</td>\n",
       "      <td>1942-12-04</td>\n",
       "      <td>2011-07-22</td>\n",
       "      <td>97 AVENUE DENFERT ROCHEREAU, 75014, PARIS</td>\n",
       "      <td>48.834771</td>\n",
       "      <td>2.333121</td>\n",
       "    </tr>\n",
       "  </tbody>\n",
       "</table>\n",
       "</div>"
      ],
      "text/plain": [
       "                              rs                         complrs  numvoie  \\\n",
       "0   SELARL PHARMACIE MATHIAU LAM           PHARMACIE MATHIAU LAM        3   \n",
       "1  SELARL PHARMACIE DIDOT ALESIA          PHARMACIE DIDOT ALESIA      169   \n",
       "2  SELARL PHARMACIE EDGAR QUINET          PHARMACIE EDGAR QUINET       43   \n",
       "3                   M OMAR AADRI                 PHARMACIE AADRI       11   \n",
       "4                   EURL PLANCHE  PHARMACIE PL DENFERT ROCHEREAU       97   \n",
       "\n",
       "  typvoie               voie  departement libdepartement     cp commune  \\\n",
       "0     RUE       JEANNE D'ARC           75          PARIS  75013   PARIS   \n",
       "1     RUE           D ALESIA           75          PARIS  75014   PARIS   \n",
       "2     RUE           DELAMBRE           75          PARIS  75014   PARIS   \n",
       "3     RUE          MARGUERIN           75          PARIS  75014   PARIS   \n",
       "4  AVENUE  DENFERT ROCHEREAU           75          PARIS  75014   PARIS   \n",
       "\n",
       "   telephone  telecopie     dateouv   dateautor     datemaj  \\\n",
       "0  145834022  145864415  2011-06-30  1994-06-29  2011-07-21   \n",
       "1  145423493  145426363  2011-04-11  1942-12-30  2011-07-22   \n",
       "2  143207012  143202920  2010-07-01  1942-11-10  2011-07-21   \n",
       "3  145407284  145394212  2012-07-30  1943-05-05  2012-09-12   \n",
       "4  143542971  144070600  2011-04-01  1942-12-04  2011-07-22   \n",
       "\n",
       "                                 fulladdress        lat       lng  \n",
       "0           3 RUE JEANNE D'ARC, 75013, PARIS  48.828895  2.369385  \n",
       "1             169 RUE D ALESIA, 75014, PARIS  48.830662  2.318188  \n",
       "2              43 RUE DELAMBRE, 75014, PARIS  48.841301  2.325438  \n",
       "3             11 RUE MARGUERIN, 75014, PARIS  48.826962  2.328586  \n",
       "4  97 AVENUE DENFERT ROCHEREAU, 75014, PARIS  48.834771  2.333121  "
      ]
     },
     "execution_count": 136,
     "metadata": {},
     "output_type": "execute_result"
    }
   ],
   "source": [
    "pharma_df.head()"
   ]
  },
  {
   "cell_type": "markdown",
   "metadata": {},
   "source": [
    "We are going to use geoparser from *geopy* and to do so we need a full address in format `\"building_num street, zip code, city\"`. \n",
    "We have all the components of the full address, so we just apply a lambda function which formats a string and add it as a new column to our dataframe:"
   ]
  },
  {
   "cell_type": "code",
   "execution_count": 125,
   "metadata": {
    "collapsed": false
   },
   "outputs": [],
   "source": [
    "pharma_df['fulladdress'] = pharma_df.apply(\n",
    "    lambda row: '{num} {st_type} {street}, {code}, {city}'.format(num=row['numvoie'],\n",
    "                                                                st_type=row['typvoie'],\n",
    "                                                                street=row['voie'],\n",
    "                                                                code=row['cp'],\n",
    "                                                                city=row['commune']), axis=1)"
   ]
  },
  {
   "cell_type": "markdown",
   "metadata": {},
   "source": [
    "Let's have a look at the data after adding full address column:"
   ]
  },
  {
   "cell_type": "code",
   "execution_count": 137,
   "metadata": {
    "collapsed": false
   },
   "outputs": [
    {
     "data": {
      "text/html": [
       "<div>\n",
       "<table border=\"1\" class=\"dataframe\">\n",
       "  <thead>\n",
       "    <tr style=\"text-align: right;\">\n",
       "      <th></th>\n",
       "      <th>numvoie</th>\n",
       "      <th>typvoie</th>\n",
       "      <th>voie</th>\n",
       "      <th>cp</th>\n",
       "      <th>commune</th>\n",
       "      <th>fulladdress</th>\n",
       "    </tr>\n",
       "  </thead>\n",
       "  <tbody>\n",
       "    <tr>\n",
       "      <th>0</th>\n",
       "      <td>3</td>\n",
       "      <td>RUE</td>\n",
       "      <td>JEANNE D'ARC</td>\n",
       "      <td>75013</td>\n",
       "      <td>PARIS</td>\n",
       "      <td>3 RUE JEANNE D'ARC, 75013, PARIS</td>\n",
       "    </tr>\n",
       "    <tr>\n",
       "      <th>1</th>\n",
       "      <td>169</td>\n",
       "      <td>RUE</td>\n",
       "      <td>D ALESIA</td>\n",
       "      <td>75014</td>\n",
       "      <td>PARIS</td>\n",
       "      <td>169 RUE D ALESIA, 75014, PARIS</td>\n",
       "    </tr>\n",
       "    <tr>\n",
       "      <th>2</th>\n",
       "      <td>43</td>\n",
       "      <td>RUE</td>\n",
       "      <td>DELAMBRE</td>\n",
       "      <td>75014</td>\n",
       "      <td>PARIS</td>\n",
       "      <td>43 RUE DELAMBRE, 75014, PARIS</td>\n",
       "    </tr>\n",
       "    <tr>\n",
       "      <th>3</th>\n",
       "      <td>11</td>\n",
       "      <td>RUE</td>\n",
       "      <td>MARGUERIN</td>\n",
       "      <td>75014</td>\n",
       "      <td>PARIS</td>\n",
       "      <td>11 RUE MARGUERIN, 75014, PARIS</td>\n",
       "    </tr>\n",
       "    <tr>\n",
       "      <th>4</th>\n",
       "      <td>97</td>\n",
       "      <td>AVENUE</td>\n",
       "      <td>DENFERT ROCHEREAU</td>\n",
       "      <td>75014</td>\n",
       "      <td>PARIS</td>\n",
       "      <td>97 AVENUE DENFERT ROCHEREAU, 75014, PARIS</td>\n",
       "    </tr>\n",
       "  </tbody>\n",
       "</table>\n",
       "</div>"
      ],
      "text/plain": [
       "   numvoie typvoie               voie     cp commune  \\\n",
       "0        3     RUE       JEANNE D'ARC  75013   PARIS   \n",
       "1      169     RUE           D ALESIA  75014   PARIS   \n",
       "2       43     RUE           DELAMBRE  75014   PARIS   \n",
       "3       11     RUE          MARGUERIN  75014   PARIS   \n",
       "4       97  AVENUE  DENFERT ROCHEREAU  75014   PARIS   \n",
       "\n",
       "                                 fulladdress  \n",
       "0           3 RUE JEANNE D'ARC, 75013, PARIS  \n",
       "1             169 RUE D ALESIA, 75014, PARIS  \n",
       "2              43 RUE DELAMBRE, 75014, PARIS  \n",
       "3             11 RUE MARGUERIN, 75014, PARIS  \n",
       "4  97 AVENUE DENFERT ROCHEREAU, 75014, PARIS  "
      ]
     },
     "execution_count": 137,
     "metadata": {},
     "output_type": "execute_result"
    }
   ],
   "source": [
    "pharma_df[['numvoie', 'typvoie', 'voie', 'cp', 'commune', 'fulladdress']].head()"
   ]
  },
  {
   "cell_type": "markdown",
   "metadata": {},
   "source": [
    "Seems that's what we wanted!\n",
    "\n",
    "Next move is to pass `fulladdress` data to the geocoder and store *latitude* and *longtitude* information in the dataframe.\n",
    "\n",
    "We define a helper function which excepts string with address and geolocator object as input arguments, and outputs latitude and longtitude for the address:"
   ]
  },
  {
   "cell_type": "code",
   "execution_count": 138,
   "metadata": {
    "collapsed": false
   },
   "outputs": [],
   "source": [
    "def find_map_coordinates(full_address, geolocator):\n",
    "    \"\"\"\n",
    "    Function to find latitude and longtitude for the address.\n",
    "    Input\n",
    "    :full_address: input string with full address (like \"55 rue du Faubourg Saint-Honore, 75008, Paris\")\n",
    "    :geolocator: geocoder object from geopy module\n",
    "    \n",
    "    Output\n",
    "    :latitude, longitude: values of latitude and longtitude for the input address\n",
    "    \"\"\"\n",
    "    location = geolocator.geocode(full_address)\n",
    "    return location.latitude, location.longitude"
   ]
  },
  {
   "cell_type": "markdown",
   "metadata": {},
   "source": [
    "Let's create geo locator object (e.g. Google one):"
   ]
  },
  {
   "cell_type": "code",
   "execution_count": null,
   "metadata": {
    "collapsed": true
   },
   "outputs": [],
   "source": [
    "# Create geocoder object\n",
    "geolocator = GoogleV3()"
   ]
  },
  {
   "cell_type": "markdown",
   "metadata": {},
   "source": [
    "Now, when we have function to convert address to the coordinates, let's parse `fulladdress` columns and add convertion results to the dataframe:\n",
    ">**Note**: because there is a quota for geocoding request on the server part, for this toy example we will limit our dataset to the first 10 rows"
   ]
  },
  {
   "cell_type": "code",
   "execution_count": 133,
   "metadata": {
    "collapsed": false
   },
   "outputs": [],
   "source": [
    "# Limit our data to the first 10 rows\n",
    "pharma_df = pharma_df[:10]\n",
    "\n",
    "# Find coordinates by appling helper function. We pass also geolocator object\n",
    "locs = pharma_df['fulladdress'].apply(find_map_coordinates, args=(geolocator,)).tolist()\n",
    "\n",
    "# Add new columns to the dataframe with latitude and longtitude values\n",
    "pharma_df['lat'], pharma_df['lng'] = zip(*locs)"
   ]
  },
  {
   "cell_type": "markdown",
   "metadata": {},
   "source": [
    "This way our dataframe has two new column with information about map coordinates for each of the address:"
   ]
  },
  {
   "cell_type": "code",
   "execution_count": 135,
   "metadata": {
    "collapsed": false
   },
   "outputs": [
    {
     "data": {
      "text/html": [
       "<div>\n",
       "<table border=\"1\" class=\"dataframe\">\n",
       "  <thead>\n",
       "    <tr style=\"text-align: right;\">\n",
       "      <th></th>\n",
       "      <th>fulladdress</th>\n",
       "      <th>lat</th>\n",
       "      <th>lng</th>\n",
       "    </tr>\n",
       "  </thead>\n",
       "  <tbody>\n",
       "    <tr>\n",
       "      <th>0</th>\n",
       "      <td>3 RUE JEANNE D'ARC, 75013, PARIS</td>\n",
       "      <td>48.828895</td>\n",
       "      <td>2.369385</td>\n",
       "    </tr>\n",
       "    <tr>\n",
       "      <th>1</th>\n",
       "      <td>169 RUE D ALESIA, 75014, PARIS</td>\n",
       "      <td>48.830662</td>\n",
       "      <td>2.318188</td>\n",
       "    </tr>\n",
       "    <tr>\n",
       "      <th>2</th>\n",
       "      <td>43 RUE DELAMBRE, 75014, PARIS</td>\n",
       "      <td>48.841301</td>\n",
       "      <td>2.325438</td>\n",
       "    </tr>\n",
       "    <tr>\n",
       "      <th>3</th>\n",
       "      <td>11 RUE MARGUERIN, 75014, PARIS</td>\n",
       "      <td>48.826962</td>\n",
       "      <td>2.328586</td>\n",
       "    </tr>\n",
       "    <tr>\n",
       "      <th>4</th>\n",
       "      <td>97 AVENUE DENFERT ROCHEREAU, 75014, PARIS</td>\n",
       "      <td>48.834771</td>\n",
       "      <td>2.333121</td>\n",
       "    </tr>\n",
       "  </tbody>\n",
       "</table>\n",
       "</div>"
      ],
      "text/plain": [
       "                                 fulladdress        lat       lng\n",
       "0           3 RUE JEANNE D'ARC, 75013, PARIS  48.828895  2.369385\n",
       "1             169 RUE D ALESIA, 75014, PARIS  48.830662  2.318188\n",
       "2              43 RUE DELAMBRE, 75014, PARIS  48.841301  2.325438\n",
       "3             11 RUE MARGUERIN, 75014, PARIS  48.826962  2.328586\n",
       "4  97 AVENUE DENFERT ROCHEREAU, 75014, PARIS  48.834771  2.333121"
      ]
     },
     "execution_count": 135,
     "metadata": {},
     "output_type": "execute_result"
    }
   ],
   "source": [
    "pharma_df[['fulladdress','lat','lng']].head()"
   ]
  },
  {
   "cell_type": "markdown",
   "metadata": {},
   "source": [
    "## That's all!\n",
    "In a few simple steps we saw how to convert address from a text format to a map coodinates using pandas and geopy.\n",
    "The future application of obtained coordinates depends only on one's imagination. For example, we can try to see if there are some districts with more pharmacies that in anothers.\n",
    "\n",
    "---\n",
    "*Alexander Usoltsev, 2016*"
   ]
  }
 ],
 "metadata": {
  "kernelspec": {
   "display_name": "Python 2",
   "language": "python",
   "name": "python2"
  },
  "language_info": {
   "codemirror_mode": {
    "name": "ipython",
    "version": 2
   },
   "file_extension": ".py",
   "mimetype": "text/x-python",
   "name": "python",
   "nbconvert_exporter": "python",
   "pygments_lexer": "ipython2",
   "version": "2.7.11"
  }
 },
 "nbformat": 4,
 "nbformat_minor": 0
}
